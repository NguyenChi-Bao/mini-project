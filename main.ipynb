{
 "cells": [
  {
   "attachments": {},
   "cell_type": "markdown",
   "metadata": {},
   "source": [
    "# **Processing for Data Analysis and Report**\n"
   ]
  },
  {
   "attachments": {},
   "cell_type": "markdown",
   "metadata": {},
   "source": [
    "*I have a table of order data of about 4 million rows in Google Bigquery. In this mini project I will use python and SQL to prepare data (**collecting and data transformation**) for a Customer RFM analysis.*\n",
    "\n",
    "*In this notebook, I use python for most of the preparation, but at the end of the notebook, I created a SQL query that does what I did in python. Because python or SQL is just another tool or approach in Data analysis processing*"
   ]
  },
  {
   "attachments": {},
   "cell_type": "markdown",
   "metadata": {},
   "source": [
    "## 1.Collect data from Google Bigquery"
   ]
  },
  {
   "attachments": {},
   "cell_type": "markdown",
   "metadata": {},
   "source": [
    "test_table Table get all of data I need for RFM analysis in this project. I will use GBQ api to collect data from my GBQ project/dataset to this notebook.\n",
    "\n",
    "*---In fact, an RFM analysis will need more fields to get insight---*"
   ]
  },
  {
   "cell_type": "code",
   "execution_count": 89,
   "metadata": {},
   "outputs": [],
   "source": [
    "import warnings\n",
    "warnings.filterwarnings(\"ignore\")\n",
    "\n",
    "import pandas as pd\n",
    "import pandas_gbq\n",
    "import numpy as np\n",
    "from google.oauth2 import service_account"
   ]
  },
  {
   "cell_type": "code",
   "execution_count": null,
   "metadata": {},
   "outputs": [],
   "source": [
    "\n",
    "#Credentail of my project in Google Bigquery\n",
    "\n",
    "cre = service_account.Credentials.from_service_account_file(r'credential_js.json')\n",
    "\n",
    "#create query and extract data from GBQ, because I will transfrom and clean data by python, so I'll query all of data (about 4m rows) from my dataset on GBQ\n",
    "sql = \"\"\"--sql\n",
    "SELECT * FROM `mydw-383006.myDW_customer.test_table`\n",
    "\"\"\"\n",
    "data = pd.read_gbq(query=sql, project_id= 'mydw-383006', credentials= cre)"
   ]
  },
  {
   "attachments": {},
   "cell_type": "markdown",
   "metadata": {},
   "source": [
    "Extract data from GBQ take 8 minutes, Its so long on me, so I will save this data to Pickle file which easier to read!"
   ]
  },
  {
   "cell_type": "code",
   "execution_count": 72,
   "metadata": {},
   "outputs": [],
   "source": [
    "data.to_pickle('data_customer')"
   ]
  },
  {
   "cell_type": "code",
   "execution_count": 73,
   "metadata": {},
   "outputs": [
    {
     "data": {
      "text/html": [
       "<div>\n",
       "<style scoped>\n",
       "    .dataframe tbody tr th:only-of-type {\n",
       "        vertical-align: middle;\n",
       "    }\n",
       "\n",
       "    .dataframe tbody tr th {\n",
       "        vertical-align: top;\n",
       "    }\n",
       "\n",
       "    .dataframe thead th {\n",
       "        text-align: right;\n",
       "    }\n",
       "</style>\n",
       "<table border=\"1\" class=\"dataframe\">\n",
       "  <thead>\n",
       "    <tr style=\"text-align: right;\">\n",
       "      <th></th>\n",
       "      <th>AutoCode</th>\n",
       "      <th>CreateDate</th>\n",
       "      <th>ContactPhone</th>\n",
       "      <th>ProductGroup</th>\n",
       "      <th>ProductName</th>\n",
       "      <th>Amount</th>\n",
       "      <th>Quantity</th>\n",
       "    </tr>\n",
       "  </thead>\n",
       "  <tbody>\n",
       "  </tbody>\n",
       "</table>\n",
       "</div>"
      ],
      "text/plain": [
       "Empty DataFrame\n",
       "Columns: [AutoCode, CreateDate, ContactPhone, ProductGroup, ProductName, Amount, Quantity]\n",
       "Index: []"
      ]
     },
     "execution_count": 73,
     "metadata": {},
     "output_type": "execute_result"
    }
   ],
   "source": [
    "data[data['AutoCode'] == 1]"
   ]
  },
  {
   "attachments": {},
   "cell_type": "markdown",
   "metadata": {},
   "source": [
    "# 2.Data cleaning"
   ]
  },
  {
   "cell_type": "code",
   "execution_count": 75,
   "metadata": {},
   "outputs": [
    {
     "name": "stdout",
     "output_type": "stream",
     "text": [
      "<class 'pandas.core.frame.DataFrame'>\n",
      "RangeIndex: 4697293 entries, 0 to 4697292\n",
      "Data columns (total 7 columns):\n",
      " #   Column        Non-Null Count    Dtype              \n",
      "---  ------        --------------    -----              \n",
      " 0   AutoCode      4697293 non-null  object             \n",
      " 1   CreateDate    4697293 non-null  datetime64[ns, UTC]\n",
      " 2   ContactPhone  4697293 non-null  object             \n",
      " 3   ProductGroup  4697293 non-null  object             \n",
      " 4   ProductName   4697293 non-null  object             \n",
      " 5   Amount        4697293 non-null  float64            \n",
      " 6   Quantity      4697293 non-null  float64            \n",
      "dtypes: datetime64[ns, UTC](1), float64(2), object(4)\n",
      "memory usage: 250.9+ MB\n"
     ]
    }
   ],
   "source": [
    "#check datatype of this DataFrame's columns\n",
    "data.info(show_counts=True)"
   ]
  },
  {
   "attachments": {},
   "cell_type": "markdown",
   "metadata": {},
   "source": [
    "Fortunately, dataframe don't have mising value, but Quanity column's datatype should be int, we will convert it later. Next, I will check numeric columns in DataFrame"
   ]
  },
  {
   "cell_type": "code",
   "execution_count": 8,
   "metadata": {},
   "outputs": [
    {
     "data": {
      "text/html": [
       "<div>\n",
       "<style scoped>\n",
       "    .dataframe tbody tr th:only-of-type {\n",
       "        vertical-align: middle;\n",
       "    }\n",
       "\n",
       "    .dataframe tbody tr th {\n",
       "        vertical-align: top;\n",
       "    }\n",
       "\n",
       "    .dataframe thead th {\n",
       "        text-align: right;\n",
       "    }\n",
       "</style>\n",
       "<table border=\"1\" class=\"dataframe\">\n",
       "  <thead>\n",
       "    <tr style=\"text-align: right;\">\n",
       "      <th></th>\n",
       "      <th>Amount</th>\n",
       "      <th>Quantity</th>\n",
       "    </tr>\n",
       "  </thead>\n",
       "  <tbody>\n",
       "    <tr>\n",
       "      <th>count</th>\n",
       "      <td>4.697293e+06</td>\n",
       "      <td>4.697293e+06</td>\n",
       "    </tr>\n",
       "    <tr>\n",
       "      <th>mean</th>\n",
       "      <td>3.210203e+06</td>\n",
       "      <td>1.331584e+00</td>\n",
       "    </tr>\n",
       "    <tr>\n",
       "      <th>std</th>\n",
       "      <td>7.261325e+06</td>\n",
       "      <td>8.305182e+02</td>\n",
       "    </tr>\n",
       "    <tr>\n",
       "      <th>min</th>\n",
       "      <td>-1.436400e+08</td>\n",
       "      <td>-5.000000e+02</td>\n",
       "    </tr>\n",
       "    <tr>\n",
       "      <th>25%</th>\n",
       "      <td>2.090000e+05</td>\n",
       "      <td>1.000000e+00</td>\n",
       "    </tr>\n",
       "    <tr>\n",
       "      <th>50%</th>\n",
       "      <td>4.800000e+05</td>\n",
       "      <td>1.000000e+00</td>\n",
       "    </tr>\n",
       "    <tr>\n",
       "      <th>75%</th>\n",
       "      <td>2.400000e+06</td>\n",
       "      <td>1.000000e+00</td>\n",
       "    </tr>\n",
       "    <tr>\n",
       "      <th>max</th>\n",
       "      <td>1.801900e+09</td>\n",
       "      <td>1.800000e+06</td>\n",
       "    </tr>\n",
       "  </tbody>\n",
       "</table>\n",
       "</div>"
      ],
      "text/plain": [
       "             Amount      Quantity\n",
       "count  4.697293e+06  4.697293e+06\n",
       "mean   3.210203e+06  1.331584e+00\n",
       "std    7.261325e+06  8.305182e+02\n",
       "min   -1.436400e+08 -5.000000e+02\n",
       "25%    2.090000e+05  1.000000e+00\n",
       "50%    4.800000e+05  1.000000e+00\n",
       "75%    2.400000e+06  1.000000e+00\n",
       "max    1.801900e+09  1.800000e+06"
      ]
     },
     "execution_count": 8,
     "metadata": {},
     "output_type": "execute_result"
    }
   ],
   "source": [
    "data.describe()"
   ]
  },
  {
   "cell_type": "markdown",
   "metadata": {},
   "source": [
    "We can see that Amount and Quanity have negative values, it may be due to the data recognition rules of the company that owns this data. In this project, we will ignore those elements, so I will treat these orders as outlier and remove them from the dataframe."
   ]
  },
  {
   "cell_type": "code",
   "execution_count": 77,
   "metadata": {},
   "outputs": [
    {
     "data": {
      "text/html": [
       "<div>\n",
       "<style scoped>\n",
       "    .dataframe tbody tr th:only-of-type {\n",
       "        vertical-align: middle;\n",
       "    }\n",
       "\n",
       "    .dataframe tbody tr th {\n",
       "        vertical-align: top;\n",
       "    }\n",
       "\n",
       "    .dataframe thead th {\n",
       "        text-align: right;\n",
       "    }\n",
       "</style>\n",
       "<table border=\"1\" class=\"dataframe\">\n",
       "  <thead>\n",
       "    <tr style=\"text-align: right;\">\n",
       "      <th></th>\n",
       "      <th>Amount</th>\n",
       "      <th>Quantity</th>\n",
       "    </tr>\n",
       "  </thead>\n",
       "  <tbody>\n",
       "    <tr>\n",
       "      <th>count</th>\n",
       "      <td>4.329764e+06</td>\n",
       "      <td>4.329764e+06</td>\n",
       "    </tr>\n",
       "    <tr>\n",
       "      <th>mean</th>\n",
       "      <td>3.629606e+06</td>\n",
       "      <td>1.033873e+00</td>\n",
       "    </tr>\n",
       "    <tr>\n",
       "      <th>std</th>\n",
       "      <td>7.264077e+06</td>\n",
       "      <td>1.441113e+00</td>\n",
       "    </tr>\n",
       "    <tr>\n",
       "      <th>min</th>\n",
       "      <td>1.000000e+00</td>\n",
       "      <td>1.000000e+00</td>\n",
       "    </tr>\n",
       "    <tr>\n",
       "      <th>25%</th>\n",
       "      <td>2.670000e+05</td>\n",
       "      <td>1.000000e+00</td>\n",
       "    </tr>\n",
       "    <tr>\n",
       "      <th>50%</th>\n",
       "      <td>5.460000e+05</td>\n",
       "      <td>1.000000e+00</td>\n",
       "    </tr>\n",
       "    <tr>\n",
       "      <th>75%</th>\n",
       "      <td>2.890000e+06</td>\n",
       "      <td>1.000000e+00</td>\n",
       "    </tr>\n",
       "    <tr>\n",
       "      <th>max</th>\n",
       "      <td>1.801900e+09</td>\n",
       "      <td>1.535000e+03</td>\n",
       "    </tr>\n",
       "  </tbody>\n",
       "</table>\n",
       "</div>"
      ],
      "text/plain": [
       "             Amount      Quantity\n",
       "count  4.329764e+06  4.329764e+06\n",
       "mean   3.629606e+06  1.033873e+00\n",
       "std    7.264077e+06  1.441113e+00\n",
       "min    1.000000e+00  1.000000e+00\n",
       "25%    2.670000e+05  1.000000e+00\n",
       "50%    5.460000e+05  1.000000e+00\n",
       "75%    2.890000e+06  1.000000e+00\n",
       "max    1.801900e+09  1.535000e+03"
      ]
     },
     "execution_count": 77,
     "metadata": {},
     "output_type": "execute_result"
    }
   ],
   "source": [
    "df = data[(data['Amount'] > 0) & (data['Quantity'] > 0 )]\n",
    "df.describe()"
   ]
  },
  {
   "attachments": {},
   "cell_type": "markdown",
   "metadata": {},
   "source": [
    "Now, I convert Quantity to Int type"
   ]
  },
  {
   "cell_type": "code",
   "execution_count": 78,
   "metadata": {},
   "outputs": [
    {
     "data": {
      "text/html": [
       "<div>\n",
       "<style scoped>\n",
       "    .dataframe tbody tr th:only-of-type {\n",
       "        vertical-align: middle;\n",
       "    }\n",
       "\n",
       "    .dataframe tbody tr th {\n",
       "        vertical-align: top;\n",
       "    }\n",
       "\n",
       "    .dataframe thead th {\n",
       "        text-align: right;\n",
       "    }\n",
       "</style>\n",
       "<table border=\"1\" class=\"dataframe\">\n",
       "  <thead>\n",
       "    <tr style=\"text-align: right;\">\n",
       "      <th></th>\n",
       "      <th>AutoCode</th>\n",
       "      <th>CreateDate</th>\n",
       "      <th>ContactPhone</th>\n",
       "      <th>ProductGroup</th>\n",
       "      <th>ProductName</th>\n",
       "      <th>Amount</th>\n",
       "      <th>Quantity</th>\n",
       "    </tr>\n",
       "  </thead>\n",
       "  <tbody>\n",
       "  </tbody>\n",
       "</table>\n",
       "</div>"
      ],
      "text/plain": [
       "Empty DataFrame\n",
       "Columns: [AutoCode, CreateDate, ContactPhone, ProductGroup, ProductName, Amount, Quantity]\n",
       "Index: []"
      ]
     },
     "execution_count": 78,
     "metadata": {},
     "output_type": "execute_result"
    }
   ],
   "source": [
    "df[(df['Quantity'] % 1) > 0]"
   ]
  },
  {
   "cell_type": "code",
   "execution_count": 88,
   "metadata": {},
   "outputs": [],
   "source": [
    "df['Quantity'] = df['Quantity'].astype('int')"
   ]
  },
  {
   "cell_type": "code",
   "execution_count": 90,
   "metadata": {},
   "outputs": [
    {
     "name": "stdout",
     "output_type": "stream",
     "text": [
      "<class 'pandas.core.frame.DataFrame'>\n",
      "Int64Index: 4329764 entries, 0 to 4697292\n",
      "Data columns (total 7 columns):\n",
      " #   Column        Non-Null Count    Dtype              \n",
      "---  ------        --------------    -----              \n",
      " 0   AutoCode      4329764 non-null  object             \n",
      " 1   CreateDate    4329764 non-null  datetime64[ns, UTC]\n",
      " 2   ContactPhone  4329764 non-null  object             \n",
      " 3   ProductGroup  4329764 non-null  object             \n",
      " 4   ProductName   4329764 non-null  object             \n",
      " 5   Amount        4329764 non-null  int32              \n",
      " 6   Quantity      4329764 non-null  int32              \n",
      "dtypes: datetime64[ns, UTC](1), int32(2), object(4)\n",
      "memory usage: 231.2+ MB\n"
     ]
    }
   ],
   "source": [
    "df.info(show_counts = True)"
   ]
  },
  {
   "cell_type": "markdown",
   "metadata": {},
   "source": []
  },
  {
   "cell_type": "code",
   "execution_count": 58,
   "metadata": {},
   "outputs": [
    {
     "data": {
      "text/plain": [
       "True     4308510\n",
       "False      21254\n",
       "Name: ContactPhone, dtype: int64"
      ]
     },
     "execution_count": 58,
     "metadata": {},
     "output_type": "execute_result"
    }
   ],
   "source": [
    "df['ContactPhone'].str.contains(r'^\\d+$',regex=True).value_counts()"
   ]
  },
  {
   "cell_type": "code",
   "execution_count": 59,
   "metadata": {},
   "outputs": [
    {
     "name": "stderr",
     "output_type": "stream",
     "text": [
      "C:\\Users\\nchib\\AppData\\Local\\Temp\\ipykernel_25328\\3788047785.py:11: SettingWithCopyWarning: \n",
      "A value is trying to be set on a copy of a slice from a DataFrame.\n",
      "Try using .loc[row_indexer,col_indexer] = value instead\n",
      "\n",
      "See the caveats in the documentation: https://pandas.pydata.org/pandas-docs/stable/user_guide/indexing.html#returning-a-view-versus-a-copy\n",
      "  df['ContactPhone'] = df.ContactPhone.apply(regexp_phone)\n"
     ]
    }
   ],
   "source": [
    "import re\n",
    "\n",
    "def regexp_phone(str):\n",
    "    patt_ = r'[^\\d]'\n",
    "    if re.match(string = str, pattern = r'\\d+'):\n",
    "        return re.sub(string = str, pattern= patt_, repl= '')\n",
    "    else:\n",
    "        return pd.NA\n",
    "\n",
    "\n",
    "df['ContactPhone'] = df.ContactPhone.apply(regexp_phone)"
   ]
  },
  {
   "cell_type": "code",
   "execution_count": 69,
   "metadata": {},
   "outputs": [
    {
     "data": {
      "text/plain": [
       "Index(['AutoCode', 'CreateDate', 'ContactPhone', 'ProductGroup', 'ProductName',\n",
       "       'Amount', 'Quantity'],\n",
       "      dtype='object')"
      ]
     },
     "execution_count": 69,
     "metadata": {},
     "output_type": "execute_result"
    }
   ],
   "source": [
    "df"
   ]
  }
 ],
 "metadata": {
  "kernelspec": {
   "display_name": "Python 3.9.7 64-bit",
   "language": "python",
   "name": "python3"
  },
  "language_info": {
   "codemirror_mode": {
    "name": "ipython",
    "version": 3
   },
   "file_extension": ".py",
   "mimetype": "text/x-python",
   "name": "python",
   "nbconvert_exporter": "python",
   "pygments_lexer": "ipython3",
   "version": "3.9.7"
  },
  "orig_nbformat": 4,
  "vscode": {
   "interpreter": {
    "hash": "a235f46d115725d548da21424606a6d1834d665773e0fe92a36a0a30d0a4f98d"
   }
  }
 },
 "nbformat": 4,
 "nbformat_minor": 2
}
